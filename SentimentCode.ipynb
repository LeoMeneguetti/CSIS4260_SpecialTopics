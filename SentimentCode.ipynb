{
 "cells": [
  {
   "cell_type": "markdown",
   "id": "f39fc07c-0e1c-4ace-9c5b-a4209820422b",
   "metadata": {},
   "source": [
    "# Special Topics Project"
   ]
  },
  {
   "cell_type": "markdown",
   "id": "9354f3e0-b627-4d38-a78e-025cd539ea7c",
   "metadata": {},
   "source": [
    "## Sentiment Analysis"
   ]
  },
  {
   "cell_type": "markdown",
   "id": "ed7f48c6-d73f-4c4a-87b4-eb35ffa9b16e",
   "metadata": {},
   "source": [
    "**Dataset**: https://www.kaggle.com/datasets/gpreda/bbc-news\n",
    "\n",
    "It contains RSS(Really Simple Syndication) feeds from BBC News.\n",
    "So instead of visiting each website separately to check for new content, you can use RSS to see all the updates in one place, making it easier to stay informed about the topics you care about.\n"
   ]
  },
  {
   "cell_type": "code",
   "execution_count": 1,
   "id": "714be726-f7fb-45c5-9e1b-7d0e9121bd58",
   "metadata": {},
   "outputs": [],
   "source": [
    "### Step 0. Modules and Defined Functions"
   ]
  },
  {
   "cell_type": "code",
   "execution_count": 2,
   "id": "b62ba649-3b7f-48d4-a4ef-5f4bc495fa82",
   "metadata": {},
   "outputs": [],
   "source": [
    "#pip install nltk"
   ]
  },
  {
   "cell_type": "code",
   "execution_count": 3,
   "id": "3bae6f24-fd10-42c5-a578-1c03f994a863",
   "metadata": {},
   "outputs": [],
   "source": [
    "import pandas as pd\n",
    "import numpy as np\n",
    "import matplotlib.pyplot as plt\n",
    "import seaborn as sns\n",
    "import nltk\n",
    "import datetime as dt\n",
    "#nltk.download('all')"
   ]
  },
  {
   "cell_type": "code",
   "execution_count": 4,
   "id": "9e462fb4-eeba-451b-9829-5b9e9c8d3bd9",
   "metadata": {},
   "outputs": [],
   "source": [
    "def plot_dates_density(datetime_column):\n",
    "    '''\n",
    "    Show distribution of values of the datetime column via histogram.\n",
    "    The earliest and latest dates are stated in the visualisation's title.\n",
    "    Args:\n",
    "        datetime_column (str): the name of the column\n",
    "        with datetime data.\n",
    "    Returns:\n",
    "        nothing\n",
    "    '''\n",
    "    # First date.\n",
    "    min_year = news[datetime_column].min().year\n",
    "    min_month = news[datetime_column].min().month\n",
    "    min_day = news[datetime_column].min().day\n",
    "    first_date = f'{min_day}/{min_month}/{min_year}'\n",
    "    \n",
    "    # Last date.\n",
    "    max_year = news[datetime_column].max().year\n",
    "    max_month = news[datetime_column].max().month\n",
    "    max_day = news[datetime_column].max().day\n",
    "    last_date = f'{max_day}/{max_month}/{max_year}'\n",
    "    \n",
    "    # Title as a f-string.\n",
    "    title = f'Period:\\nFrom {first_date} to {last_date}\\n'\n",
    "    \n",
    "    # Histogram.\n",
    "    news['pubDate'].hist(bins=100)\n",
    "    \n",
    "    # Extra bits and bolts.\n",
    "    plt.title(title, fontsize=15, loc='left')\n",
    "    plt.xlabel('Year')\n",
    "    plt.ylabel('Density of news publications')\n",
    "    plt.xticks(rotation=90, ha='right')\n",
    "    # Show.\n",
    "    plt.show()"
   ]
  },
  {
   "cell_type": "markdown",
   "id": "a06f5af0-bf7a-4c97-87c8-af4c0d99e18d",
   "metadata": {},
   "source": [
    "#### **Step 1.** Data exploration - News"
   ]
  },
  {
   "cell_type": "code",
   "execution_count": 5,
   "id": "20f130a1-eee1-4964-959d-3b4ace854668",
   "metadata": {},
   "outputs": [
    {
     "data": {
      "text/plain": [
       "'C:\\\\Users\\\\leona\\\\JupyterSplTopics'"
      ]
     },
     "execution_count": 5,
     "metadata": {},
     "output_type": "execute_result"
    }
   ],
   "source": [
    "# Getting the location of the jupyterfile\n",
    "%pwd"
   ]
  },
  {
   "cell_type": "code",
   "execution_count": 6,
   "id": "b10e2eb7-47e5-4177-a29c-5fdb972f82e3",
   "metadata": {},
   "outputs": [],
   "source": [
    "# Reading the dataset and storing it in 'news'\n",
    "news = pd.read_csv('C:\\\\Users\\\\leona\\\\JupyterSplTopics\\\\bbc_news.csv')"
   ]
  },
  {
   "cell_type": "code",
   "execution_count": 7,
   "id": "c71f0599-ee22-4755-87b7-8039d89bfed2",
   "metadata": {},
   "outputs": [
    {
     "name": "stdout",
     "output_type": "stream",
     "text": [
      "(31469, 5)\n"
     ]
    },
    {
     "data": {
      "text/html": [
       "<div>\n",
       "<style scoped>\n",
       "    .dataframe tbody tr th:only-of-type {\n",
       "        vertical-align: middle;\n",
       "    }\n",
       "\n",
       "    .dataframe tbody tr th {\n",
       "        vertical-align: top;\n",
       "    }\n",
       "\n",
       "    .dataframe thead th {\n",
       "        text-align: right;\n",
       "    }\n",
       "</style>\n",
       "<table border=\"1\" class=\"dataframe\">\n",
       "  <thead>\n",
       "    <tr style=\"text-align: right;\">\n",
       "      <th></th>\n",
       "      <th>title</th>\n",
       "      <th>pubDate</th>\n",
       "      <th>guid</th>\n",
       "      <th>link</th>\n",
       "      <th>description</th>\n",
       "    </tr>\n",
       "  </thead>\n",
       "  <tbody>\n",
       "    <tr>\n",
       "      <th>0</th>\n",
       "      <td>Ukraine: Angry Zelensky vows to punish Russian...</td>\n",
       "      <td>Mon, 07 Mar 2022 08:01:56 GMT</td>\n",
       "      <td>https://www.bbc.co.uk/news/world-europe-60638042</td>\n",
       "      <td>https://www.bbc.co.uk/news/world-europe-606380...</td>\n",
       "      <td>The Ukrainian president says the country will ...</td>\n",
       "    </tr>\n",
       "    <tr>\n",
       "      <th>1</th>\n",
       "      <td>War in Ukraine: Taking cover in a town under a...</td>\n",
       "      <td>Sun, 06 Mar 2022 22:49:58 GMT</td>\n",
       "      <td>https://www.bbc.co.uk/news/world-europe-60641873</td>\n",
       "      <td>https://www.bbc.co.uk/news/world-europe-606418...</td>\n",
       "      <td>Jeremy Bowen was on the frontline in Irpin, as...</td>\n",
       "    </tr>\n",
       "    <tr>\n",
       "      <th>2</th>\n",
       "      <td>Ukraine war 'catastrophic for global food'</td>\n",
       "      <td>Mon, 07 Mar 2022 00:14:42 GMT</td>\n",
       "      <td>https://www.bbc.co.uk/news/business-60623941</td>\n",
       "      <td>https://www.bbc.co.uk/news/business-60623941?a...</td>\n",
       "      <td>One of the world's biggest fertiliser firms sa...</td>\n",
       "    </tr>\n",
       "    <tr>\n",
       "      <th>3</th>\n",
       "      <td>Manchester Arena bombing: Saffie Roussos's par...</td>\n",
       "      <td>Mon, 07 Mar 2022 00:05:40 GMT</td>\n",
       "      <td>https://www.bbc.co.uk/news/uk-60579079</td>\n",
       "      <td>https://www.bbc.co.uk/news/uk-60579079?at_medi...</td>\n",
       "      <td>The parents of the Manchester Arena bombing's ...</td>\n",
       "    </tr>\n",
       "    <tr>\n",
       "      <th>4</th>\n",
       "      <td>Ukraine conflict: Oil price soars to highest l...</td>\n",
       "      <td>Mon, 07 Mar 2022 08:15:53 GMT</td>\n",
       "      <td>https://www.bbc.co.uk/news/business-60642786</td>\n",
       "      <td>https://www.bbc.co.uk/news/business-60642786?a...</td>\n",
       "      <td>Consumers are feeling the impact of higher ene...</td>\n",
       "    </tr>\n",
       "  </tbody>\n",
       "</table>\n",
       "</div>"
      ],
      "text/plain": [
       "                                               title  \\\n",
       "0  Ukraine: Angry Zelensky vows to punish Russian...   \n",
       "1  War in Ukraine: Taking cover in a town under a...   \n",
       "2         Ukraine war 'catastrophic for global food'   \n",
       "3  Manchester Arena bombing: Saffie Roussos's par...   \n",
       "4  Ukraine conflict: Oil price soars to highest l...   \n",
       "\n",
       "                         pubDate  \\\n",
       "0  Mon, 07 Mar 2022 08:01:56 GMT   \n",
       "1  Sun, 06 Mar 2022 22:49:58 GMT   \n",
       "2  Mon, 07 Mar 2022 00:14:42 GMT   \n",
       "3  Mon, 07 Mar 2022 00:05:40 GMT   \n",
       "4  Mon, 07 Mar 2022 08:15:53 GMT   \n",
       "\n",
       "                                               guid  \\\n",
       "0  https://www.bbc.co.uk/news/world-europe-60638042   \n",
       "1  https://www.bbc.co.uk/news/world-europe-60641873   \n",
       "2      https://www.bbc.co.uk/news/business-60623941   \n",
       "3            https://www.bbc.co.uk/news/uk-60579079   \n",
       "4      https://www.bbc.co.uk/news/business-60642786   \n",
       "\n",
       "                                                link  \\\n",
       "0  https://www.bbc.co.uk/news/world-europe-606380...   \n",
       "1  https://www.bbc.co.uk/news/world-europe-606418...   \n",
       "2  https://www.bbc.co.uk/news/business-60623941?a...   \n",
       "3  https://www.bbc.co.uk/news/uk-60579079?at_medi...   \n",
       "4  https://www.bbc.co.uk/news/business-60642786?a...   \n",
       "\n",
       "                                         description  \n",
       "0  The Ukrainian president says the country will ...  \n",
       "1  Jeremy Bowen was on the frontline in Irpin, as...  \n",
       "2  One of the world's biggest fertiliser firms sa...  \n",
       "3  The parents of the Manchester Arena bombing's ...  \n",
       "4  Consumers are feeling the impact of higher ene...  "
      ]
     },
     "execution_count": 7,
     "metadata": {},
     "output_type": "execute_result"
    }
   ],
   "source": [
    "# Showing the first rows of the dataset\n",
    "print(news.shape)\n",
    "news.head()"
   ]
  },
  {
   "cell_type": "markdown",
   "id": "d5488df6-19d1-408c-8e7b-d47570c73936",
   "metadata": {},
   "source": [
    "##### Tokenization"
   ]
  },
  {
   "cell_type": "markdown",
   "id": "1caf810b-0f77-4a17-8a72-1d8cf482b9f9",
   "metadata": {},
   "source": [
    "As an example, in the following line of code we select the title of the news article at the position 200 in the dataframe 'news' and store it in the variable 'example':"
   ]
  },
  {
   "cell_type": "code",
   "execution_count": 8,
   "id": "d97a44b8-7df7-4f69-b340-8fcece2f7cc9",
   "metadata": {},
   "outputs": [],
   "source": [
    "example = news['title'][200]"
   ]
  },
  {
   "cell_type": "markdown",
   "id": "6c53bfdc-a7dd-48ba-8d5c-2c380de51d7e",
   "metadata": {},
   "source": [
    "After that it is started a process called Tokenization which breaks down a piece of text into smaller units, typically words or individual characters.\n",
    "In the code below we are performing the tokenization in the variable 'example' by selecting the 11 tokens(0:11)"
   ]
  },
  {
   "cell_type": "code",
   "execution_count": 9,
   "id": "9990dfd3-fb4e-4ccc-bd7a-52cd38f59b04",
   "metadata": {},
   "outputs": [
    {
     "data": {
      "text/plain": [
       "['Bairstow', 'ton', 'rescues', 'England', 'against', 'West', 'Indies']"
      ]
     },
     "execution_count": 9,
     "metadata": {},
     "output_type": "execute_result"
    }
   ],
   "source": [
    "tokens= nltk.word_tokenize(example)\n",
    "tokens[0:11]"
   ]
  },
  {
   "cell_type": "markdown",
   "id": "28572908-f711-418b-8b83-dc1deb9b142a",
   "metadata": {},
   "source": [
    "After that we do a POS(part-of-speech) tag process to the tolkens. \n",
    "It will tag it word as a noun (NN), a verb (VB), an adjective (JJ), etc."
   ]
  },
  {
   "cell_type": "code",
   "execution_count": 10,
   "id": "7d1a015d-15a4-493d-a243-9412d46e646e",
   "metadata": {},
   "outputs": [
    {
     "data": {
      "text/plain": [
       "[('Bairstow', 'NNP'),\n",
       " ('ton', 'NN'),\n",
       " ('rescues', 'NNS'),\n",
       " ('England', 'NNP'),\n",
       " ('against', 'IN'),\n",
       " ('West', 'NNP'),\n",
       " ('Indies', 'NNS')]"
      ]
     },
     "execution_count": 10,
     "metadata": {},
     "output_type": "execute_result"
    }
   ],
   "source": [
    "tagged = nltk.pos_tag(tokens)\n",
    "tagged"
   ]
  },
  {
   "cell_type": "markdown",
   "id": "52b1accd-c704-4be5-a799-98198fc93ff6",
   "metadata": {},
   "source": [
    "In the code below we utilize NLTK's 'ne_chunk' function to perform (NER) Named Entity Recognition on the selected tokens. NER is a natural language processing task that identifies and classifies named entities (such as persons, organizations, locations, etc.) in text."
   ]
  },
  {
   "cell_type": "code",
   "execution_count": 11,
   "id": "875e580e-7cc1-4fb0-9944-0994d8cf68eb",
   "metadata": {},
   "outputs": [
    {
     "name": "stdout",
     "output_type": "stream",
     "text": [
      "(S\n",
      "  (GPE Bairstow/NNP)\n",
      "  ton/NN\n",
      "  rescues/NNS\n",
      "  (GPE England/NNP)\n",
      "  against/IN\n",
      "  (GPE West/NNP)\n",
      "  Indies/NNS)\n"
     ]
    }
   ],
   "source": [
    "entities = nltk.chunk.ne_chunk(tagged)\n",
    "entities.pprint()"
   ]
  },
  {
   "cell_type": "markdown",
   "id": "b2cd4cf9-0e64-41fc-9caa-50d9f654bf9a",
   "metadata": {},
   "source": [
    "##### Formating 'pubDate'"
   ]
  },
  {
   "cell_type": "markdown",
   "id": "4c152010-33f9-440c-98ad-d83aa543d925",
   "metadata": {},
   "source": [
    "These lines of code below ensure that the 'pubDate' column in the 'news' dataframe is converted to datetime object."
   ]
  },
  {
   "cell_type": "code",
   "execution_count": 12,
   "id": "3180ea3f-622e-498d-a8c5-241a05612a3f",
   "metadata": {},
   "outputs": [],
   "source": [
    "news['pubDate'] = pd.to_datetime(news['pubDate'])\n",
    "news['pubDate'] = pd.to_datetime(news['pubDate'],format='%Y-%m-%d')"
   ]
  },
  {
   "cell_type": "markdown",
   "id": "466f4b85-0ad7-4fec-acb3-583e81e520c7",
   "metadata": {},
   "source": [
    "##### Showing some interesting visualizations"
   ]
  },
  {
   "cell_type": "code",
   "execution_count": 13,
   "id": "68bc6672-807a-4f2a-91f6-5e0798f214a8",
   "metadata": {},
   "outputs": [
    {
     "data": {
      "image/png": "[encoded data removed]",
      "text/plain": [
       "<Figure size 640x480 with 1 Axes>"
      ]
     },
     "metadata": {},
     "output_type": "display_data"
    }
   ],
   "source": [
    "plot_dates_density('pubDate')"
   ]
  },
  {
   "cell_type": "markdown",
   "id": "c4f886c6-f09a-430e-9cef-a3bccbb2e37b",
   "metadata": {},
   "source": [
    "In the codes below we will plot only the time frame = before 2022"
   ]
  },
  {
   "cell_type": "code",
   "execution_count": 14,
   "id": "efb78d6e-4dad-4563-be3d-ef20d94cbc29",
   "metadata": {},
   "outputs": [
    {
     "data": {
      "image/png": "[encoded data removed]",
      "text/plain": [
       "<Figure size 640x480 with 1 Axes>"
      ]
     },
     "metadata": {},
     "output_type": "display_data"
    }
   ],
   "source": [
    "news = news.loc[news['pubDate'].dt.year >= 2022]\n",
    "plot_dates_density('pubDate')"
   ]
  },
  {
   "cell_type": "code",
   "execution_count": 15,
   "id": "1ff2da98-2927-4805-a882-411f4e94a7cb",
   "metadata": {},
   "outputs": [
    {
     "data": {
      "image/png": "[encoded data removed]",
      "text/plain": [
       "<Figure size 640x480 with 1 Axes>"
      ]
     },
     "metadata": {},
     "output_type": "display_data"
    }
   ],
   "source": [
    "news.groupby(news['pubDate'].dt.date)['title'].count().plot(color = 'g')\n",
    "plt.xticks(rotation=90, ha='right')\n",
    "\n",
    "plt.ylabel('Number of publications per day')\n",
    "plt.title('Quantity of news per day\\n' , fontsize=15, loc='left')\n",
    "plt.show()"
   ]
  },
  {
   "cell_type": "code",
   "execution_count": 16,
   "id": "2ccee568-5932-4773-a4fa-ca57a5b54c48",
   "metadata": {},
   "outputs": [
    {
     "data": {
      "image/png": "[encoded data removed]",
      "text/plain": [
       "<Figure size 640x480 with 1 Axes>"
      ]
     },
     "metadata": {},
     "output_type": "display_data"
    }
   ],
   "source": [
    "# Calculate the sum of news per year\n",
    "news_per_year = news.groupby(news['pubDate'].dt.year)['title'].count()\n",
    "\n",
    "# Create the bar graph\n",
    "ax = news_per_year.plot(kind='bar', color='b')\n",
    "\n",
    "# Iterate over the bars to annotate them with the sum of news\n",
    "for i, value in enumerate(news_per_year):\n",
    "    ax.text(i, value + 1, str(value), ha='center', va='bottom')\n",
    "\n",
    "# Customize the plot\n",
    "plt.xticks(rotation=90, ha='right')\n",
    "plt.ylabel('Number of publications per year')\n",
    "plt.title('Quantity of news per year\\n', fontsize=15, loc='left')\n",
    "\n",
    "# Show the plot\n",
    "plt.tight_layout()\n",
    "plt.show()"
   ]
  },
  {
   "cell_type": "markdown",
   "id": "c2bc0295-e36d-4a1a-b35a-85a8c32b31cc",
   "metadata": {},
   "source": [
    "Displaying the values in the 'pubDate' column of the DataFrame news:"
   ]
  },
  {
   "cell_type": "code",
   "execution_count": 17,
   "id": "cc12a37b-7bc9-4d84-854b-f39c96a202b5",
   "metadata": {},
   "outputs": [
    {
     "data": {
      "text/plain": [
       "0       2022-03-07 08:01:56\n",
       "1       2022-03-06 22:49:58\n",
       "2       2022-03-07 00:14:42\n",
       "3       2022-03-07 00:05:40\n",
       "4       2022-03-07 08:15:53\n",
       "                ...        \n",
       "31464   2024-03-27 04:30:00\n",
       "31465   2024-04-01 21:37:41\n",
       "31466   2024-04-01 20:04:18\n",
       "31467   2024-04-01 14:06:29\n",
       "31468   2024-04-01 20:58:06\n",
       "Name: pubDate, Length: 31459, dtype: datetime64[ns]"
      ]
     },
     "execution_count": 17,
     "metadata": {},
     "output_type": "execute_result"
    }
   ],
   "source": [
    "news['pubDate']"
   ]
  },
  {
   "cell_type": "markdown",
   "id": "4e484076-34ff-4e45-b51e-a4812ac20b60",
   "metadata": {},
   "source": [
    "#### **Step 2.** VADER Sentiment Score"
   ]
  },
  {
   "cell_type": "markdown",
   "id": "0844ebc1-0ea0-44a3-82c3-d830f50883e7",
   "metadata": {},
   "source": [
    "##### Definition and Explanation"
   ]
  },
  {
   "cell_type": "markdown",
   "id": "567b918e-9ddc-463b-89f6-bcfbcf08db53",
   "metadata": {},
   "source": [
    "VADER (Valence Aware Dictionary and sEntiment Reasoner) is a lexicon and rule-based sentiment analysis tool specifically designed for social media and  news texts. It evaluates the sentiment of a piece of text (such as a sentence or paragraph) and assigns a sentiment score to it.\r\n",
    "\r\n",
    "The VADER sentiment score ranges from -1 to +1, where:\r\n",
    "Scores clo to se to +1 indicate positive sentr>\n",
    "nt.\r\n",
    "Scores close to -1 indicate negative senr>ment.\r\n",
    "Scores around 0 indicate neutral ser>i\n",
    "ment.\r\n",
    "VADER takes into account both the polarity (positive or negative) and the intensity of sentiment in the text. It considers various factors such as capitalization, punctuation, degree modifiers, emojis, and emoticons to accurately assess sentiment.\r\n",
    "\r\n",
    "In summary, VADER Sentiment Score is a numerical representation of the sentiment expressed in a text, ranging from -1 (negative) to +1 (positive), with 0 indicating neutral sentiment. It's a useful tool for analyzing the sentiment of social media texts and other informal communication."
   ]
  },
  {
   "cell_type": "markdown",
   "id": "6df64bdc-770e-493f-b4d2-add54a3c199a",
   "metadata": {},
   "source": [
    "##### Application"
   ]
  },
  {
   "cell_type": "markdown",
   "id": "25887f4d-4260-41d2-9d29-b9f32f4d5136",
   "metadata": {},
   "source": [
    "In the line of code below we are calling the 'sia.polarity_scores' function which is part of the sentiment analysis functionality provided by the VADER tool.\n",
    "It is essentially analyzing the sentiment of the text stored in the variable 'example' and returning a dictionary containing the polarity scores. \n",
    "These scores can then be used to assess the sentiment of the text."
   ]
  },
  {
   "cell_type": "code",
   "execution_count": 18,
   "id": "fa53e888-6fcb-44ac-92e7-ddab08416d14",
   "metadata": {},
   "outputs": [],
   "source": [
    "from nltk.sentiment import SentimentIntensityAnalyzer\n",
    "from tqdm.notebook import tqdm\n",
    "sia = SentimentIntensityAnalyzer()"
   ]
  },
  {
   "cell_type": "code",
   "execution_count": 19,
   "id": "6e662afa-df05-4d18-84ff-b72b5ce8c866",
   "metadata": {},
   "outputs": [
    {
     "data": {
      "text/plain": [
       "{'neg': 0.0, 'neu': 0.723, 'pos': 0.277, 'compound': 0.3182}"
      ]
     },
     "execution_count": 19,
     "metadata": {},
     "output_type": "execute_result"
    }
   ],
   "source": [
    "sia.polarity_scores(example)"
   ]
  },
  {
   "cell_type": "markdown",
   "id": "7f2267ab-4900-4c02-b84b-b01daad25c42",
   "metadata": {},
   "source": [
    "##### Analysing the output:"
   ]
  },
  {
   "cell_type": "markdown",
   "id": "3f82703b-a16a-4be7-add7-8814ae1a0326",
   "metadata": {},
   "source": [
    "- 'neg': 0.0: This indicates that 0% of the words in the text are classified as negative. In other words, there are no negative words detected in the text."
   ]
  },
  {
   "cell_type": "markdown",
   "id": "903374c2-701e-4c95-80f2-37885a1d598e",
   "metadata": {},
   "source": [
    "- 'neu': 0.723: This indicates that approximately 72.3% of the words in the text are classified as neutral. These are words that don't express a strong positive or negative sentiment."
   ]
  },
  {
   "cell_type": "markdown",
   "id": "06f82d59-a24d-490b-92a0-6ed8304c1a36",
   "metadata": {},
   "source": [
    "- 'pos': 0.277: This indicates that approximately 27.7% of the words in the text are classified as positive. These are words that express a positive sentiment."
   ]
  },
  {
   "cell_type": "markdown",
   "id": "ca6c8305-7bfa-4979-b3a0-6e6a4e5ea777",
   "metadata": {},
   "source": [
    "- 'compound': 0.3182: This is the compound sentiment score of the text. It's a single value that represents the overall sentiment of the text, taking into account both the positive and negative words as well as their intensity. In this case, the compound score is 0.3182, which indicates a slightly positive sentiment overall."
   ]
  },
  {
   "cell_type": "markdown",
   "id": "d81f2eb5-890f-4ed2-b864-036dc4d9b2de",
   "metadata": {},
   "source": [
    "So, in simple terms, the output suggests that the text analyzed has a predominantly neutral sentiment, with a slight positive leaning overall."
   ]
  },
  {
   "cell_type": "markdown",
   "id": "5c59d3b0-974b-4321-a308-33d919e55406",
   "metadata": {},
   "source": [
    "##### Running the VADER score for whole dataset:"
   ]
  },
  {
   "cell_type": "code",
   "execution_count": 20,
   "id": "3814b23e-0fb4-4977-b25e-01ae7abfafa9",
   "metadata": {},
   "outputs": [
    {
     "data": {
      "application/vnd.jupyter.widget-view+json": {
       "model_id": "b82d0c00c5214b2dadaaf1c6a812f489",
       "version_major": 2,
       "version_minor": 0
      },
      "text/plain": [
       "  0%|          | 0/31459 [00:00<?, ?it/s]"
      ]
     },
     "metadata": {},
     "output_type": "display_data"
    }
   ],
   "source": [
    "res = {}\n",
    "for i, row in tqdm(news.iterrows(), total = len(news)):\n",
    "  title = row['title']\n",
    "  myid = row['guid']\n",
    "  res[myid] = sia.polarity_scores(title)"
   ]
  },
  {
   "cell_type": "markdown",
   "id": "afb25349-a624-4e29-be88-abe198a365d0",
   "metadata": {},
   "source": [
    "Storing the VADER score for whole dataset into the variable 'vader'. And displaying the first 10 rows:"
   ]
  },
  {
   "cell_type": "code",
   "execution_count": 21,
   "id": "4584a2b8-1b14-4e6e-a0b4-85b43f69254b",
   "metadata": {},
   "outputs": [
    {
     "data": {
      "text/html": [
       "<div>\n",
       "<style scoped>\n",
       "    .dataframe tbody tr th:only-of-type {\n",
       "        vertical-align: middle;\n",
       "    }\n",
       "\n",
       "    .dataframe tbody tr th {\n",
       "        vertical-align: top;\n",
       "    }\n",
       "\n",
       "    .dataframe thead th {\n",
       "        text-align: right;\n",
       "    }\n",
       "</style>\n",
       "<table border=\"1\" class=\"dataframe\">\n",
       "  <thead>\n",
       "    <tr style=\"text-align: right;\">\n",
       "      <th></th>\n",
       "      <th>neg</th>\n",
       "      <th>neu</th>\n",
       "      <th>pos</th>\n",
       "      <th>compound</th>\n",
       "    </tr>\n",
       "  </thead>\n",
       "  <tbody>\n",
       "    <tr>\n",
       "      <th>https://www.bbc.co.uk/news/world-europe-60638042</th>\n",
       "      <td>0.528</td>\n",
       "      <td>0.472</td>\n",
       "      <td>0.000</td>\n",
       "      <td>-0.7717</td>\n",
       "    </tr>\n",
       "    <tr>\n",
       "      <th>https://www.bbc.co.uk/news/world-europe-60641873</th>\n",
       "      <td>0.500</td>\n",
       "      <td>0.500</td>\n",
       "      <td>0.000</td>\n",
       "      <td>-0.7906</td>\n",
       "    </tr>\n",
       "    <tr>\n",
       "      <th>https://www.bbc.co.uk/news/business-60623941</th>\n",
       "      <td>0.640</td>\n",
       "      <td>0.360</td>\n",
       "      <td>0.000</td>\n",
       "      <td>-0.7964</td>\n",
       "    </tr>\n",
       "    <tr>\n",
       "      <th>https://www.bbc.co.uk/news/uk-60579079</th>\n",
       "      <td>0.000</td>\n",
       "      <td>0.796</td>\n",
       "      <td>0.204</td>\n",
       "      <td>0.3182</td>\n",
       "    </tr>\n",
       "    <tr>\n",
       "      <th>https://www.bbc.co.uk/news/business-60642786</th>\n",
       "      <td>0.158</td>\n",
       "      <td>0.685</td>\n",
       "      <td>0.158</td>\n",
       "      <td>0.0000</td>\n",
       "    </tr>\n",
       "    <tr>\n",
       "      <th>https://www.bbc.co.uk/news/uk-60642926</th>\n",
       "      <td>0.302</td>\n",
       "      <td>0.698</td>\n",
       "      <td>0.000</td>\n",
       "      <td>-0.5994</td>\n",
       "    </tr>\n",
       "    <tr>\n",
       "      <th>https://www.bbc.co.uk/news/uk-60640460</th>\n",
       "      <td>0.283</td>\n",
       "      <td>0.580</td>\n",
       "      <td>0.138</td>\n",
       "      <td>-0.4588</td>\n",
       "    </tr>\n",
       "    <tr>\n",
       "      <th>https://www.bbc.co.uk/news/business-60641988</th>\n",
       "      <td>0.000</td>\n",
       "      <td>1.000</td>\n",
       "      <td>0.000</td>\n",
       "      <td>0.0000</td>\n",
       "    </tr>\n",
       "    <tr>\n",
       "      <th>https://www.bbc.co.uk/news/uk-60640975</th>\n",
       "      <td>0.299</td>\n",
       "      <td>0.701</td>\n",
       "      <td>0.000</td>\n",
       "      <td>-0.5719</td>\n",
       "    </tr>\n",
       "    <tr>\n",
       "      <th>https://www.bbc.co.uk/news/world-europe-60640204</th>\n",
       "      <td>0.535</td>\n",
       "      <td>0.465</td>\n",
       "      <td>0.000</td>\n",
       "      <td>-0.5574</td>\n",
       "    </tr>\n",
       "  </tbody>\n",
       "</table>\n",
       "</div>"
      ],
      "text/plain": [
       "                                                    neg    neu    pos  \\\n",
       "https://www.bbc.co.uk/news/world-europe-60638042  0.528  0.472  0.000   \n",
       "https://www.bbc.co.uk/news/world-europe-60641873  0.500  0.500  0.000   \n",
       "https://www.bbc.co.uk/news/business-60623941      0.640  0.360  0.000   \n",
       "https://www.bbc.co.uk/news/uk-60579079            0.000  0.796  0.204   \n",
       "https://www.bbc.co.uk/news/business-60642786      0.158  0.685  0.158   \n",
       "https://www.bbc.co.uk/news/uk-60642926            0.302  0.698  0.000   \n",
       "https://www.bbc.co.uk/news/uk-60640460            0.283  0.580  0.138   \n",
       "https://www.bbc.co.uk/news/business-60641988      0.000  1.000  0.000   \n",
       "https://www.bbc.co.uk/news/uk-60640975            0.299  0.701  0.000   \n",
       "https://www.bbc.co.uk/news/world-europe-60640204  0.535  0.465  0.000   \n",
       "\n",
       "                                                  compound  \n",
       "https://www.bbc.co.uk/news/world-europe-60638042   -0.7717  \n",
       "https://www.bbc.co.uk/news/world-europe-60641873   -0.7906  \n",
       "https://www.bbc.co.uk/news/business-60623941       -0.7964  \n",
       "https://www.bbc.co.uk/news/uk-60579079              0.3182  \n",
       "https://www.bbc.co.uk/news/business-60642786        0.0000  \n",
       "https://www.bbc.co.uk/news/uk-60642926             -0.5994  \n",
       "https://www.bbc.co.uk/news/uk-60640460             -0.4588  \n",
       "https://www.bbc.co.uk/news/business-60641988        0.0000  \n",
       "https://www.bbc.co.uk/news/uk-60640975             -0.5719  \n",
       "https://www.bbc.co.uk/news/world-europe-60640204   -0.5574  "
      ]
     },
     "execution_count": 21,
     "metadata": {},
     "output_type": "execute_result"
    }
   ],
   "source": [
    "vaders = pd.DataFrame(res).T\n",
    "vaders.head(10)"
   ]
  },
  {
   "cell_type": "markdown",
   "id": "3e6a7afa-91b0-43dd-b642-d05fae392a91",
   "metadata": {},
   "source": [
    "Reseting the index of 'vaders', rename the index column to 'guid', and then merge vaders with the 'news' DataFrame based on a common key."
   ]
  },
  {
   "cell_type": "code",
   "execution_count": 22,
   "id": "be566129-661f-40ec-acd1-13761d0e90d4",
   "metadata": {},
   "outputs": [],
   "source": [
    "vaders.reset_index(inplace = True)\n",
    "vaders.rename(columns= {'index':'guid'}, inplace = True)\n",
    "vaders = vaders.merge(news, how = 'left')"
   ]
  },
  {
   "cell_type": "code",
   "execution_count": 23,
   "id": "50a83b12-fad6-48d9-94d7-8d53ce9988d9",
   "metadata": {},
   "outputs": [
    {
     "data": {
      "text/html": [
       "<div>\n",
       "<style scoped>\n",
       "    .dataframe tbody tr th:only-of-type {\n",
       "        vertical-align: middle;\n",
       "    }\n",
       "\n",
       "    .dataframe tbody tr th {\n",
       "        vertical-align: top;\n",
       "    }\n",
       "\n",
       "    .dataframe thead th {\n",
       "        text-align: right;\n",
       "    }\n",
       "</style>\n",
       "<table border=\"1\" class=\"dataframe\">\n",
       "  <thead>\n",
       "    <tr style=\"text-align: right;\">\n",
       "      <th></th>\n",
       "      <th>guid</th>\n",
       "      <th>neg</th>\n",
       "      <th>neu</th>\n",
       "      <th>pos</th>\n",
       "      <th>compound</th>\n",
       "      <th>title</th>\n",
       "      <th>pubDate</th>\n",
       "      <th>link</th>\n",
       "      <th>description</th>\n",
       "    </tr>\n",
       "  </thead>\n",
       "  <tbody>\n",
       "    <tr>\n",
       "      <th>0</th>\n",
       "      <td>https://www.bbc.co.uk/news/world-europe-60638042</td>\n",
       "      <td>0.528</td>\n",
       "      <td>0.472</td>\n",
       "      <td>0.000</td>\n",
       "      <td>-0.7717</td>\n",
       "      <td>Ukraine: Angry Zelensky vows to punish Russian...</td>\n",
       "      <td>2022-03-07 08:01:56</td>\n",
       "      <td>https://www.bbc.co.uk/news/world-europe-606380...</td>\n",
       "      <td>The Ukrainian president says the country will ...</td>\n",
       "    </tr>\n",
       "    <tr>\n",
       "      <th>1</th>\n",
       "      <td>https://www.bbc.co.uk/news/world-europe-60641873</td>\n",
       "      <td>0.500</td>\n",
       "      <td>0.500</td>\n",
       "      <td>0.000</td>\n",
       "      <td>-0.7906</td>\n",
       "      <td>War in Ukraine: Taking cover in a town under a...</td>\n",
       "      <td>2022-03-06 22:49:58</td>\n",
       "      <td>https://www.bbc.co.uk/news/world-europe-606418...</td>\n",
       "      <td>Jeremy Bowen was on the frontline in Irpin, as...</td>\n",
       "    </tr>\n",
       "    <tr>\n",
       "      <th>2</th>\n",
       "      <td>https://www.bbc.co.uk/news/business-60623941</td>\n",
       "      <td>0.640</td>\n",
       "      <td>0.360</td>\n",
       "      <td>0.000</td>\n",
       "      <td>-0.7964</td>\n",
       "      <td>Ukraine war 'catastrophic for global food'</td>\n",
       "      <td>2022-03-07 00:14:42</td>\n",
       "      <td>https://www.bbc.co.uk/news/business-60623941?a...</td>\n",
       "      <td>One of the world's biggest fertiliser firms sa...</td>\n",
       "    </tr>\n",
       "    <tr>\n",
       "      <th>3</th>\n",
       "      <td>https://www.bbc.co.uk/news/uk-60579079</td>\n",
       "      <td>0.000</td>\n",
       "      <td>0.796</td>\n",
       "      <td>0.204</td>\n",
       "      <td>0.3182</td>\n",
       "      <td>Manchester Arena bombing: Saffie Roussos's par...</td>\n",
       "      <td>2022-03-07 00:05:40</td>\n",
       "      <td>https://www.bbc.co.uk/news/uk-60579079?at_medi...</td>\n",
       "      <td>The parents of the Manchester Arena bombing's ...</td>\n",
       "    </tr>\n",
       "    <tr>\n",
       "      <th>4</th>\n",
       "      <td>https://www.bbc.co.uk/news/business-60642786</td>\n",
       "      <td>0.158</td>\n",
       "      <td>0.685</td>\n",
       "      <td>0.158</td>\n",
       "      <td>0.0000</td>\n",
       "      <td>Ukraine conflict: Oil price soars to highest l...</td>\n",
       "      <td>2022-03-07 08:15:53</td>\n",
       "      <td>https://www.bbc.co.uk/news/business-60642786?a...</td>\n",
       "      <td>Consumers are feeling the impact of higher ene...</td>\n",
       "    </tr>\n",
       "  </tbody>\n",
       "</table>\n",
       "</div>"
      ],
      "text/plain": [
       "                                               guid    neg    neu    pos  \\\n",
       "0  https://www.bbc.co.uk/news/world-europe-60638042  0.528  0.472  0.000   \n",
       "1  https://www.bbc.co.uk/news/world-europe-60641873  0.500  0.500  0.000   \n",
       "2      https://www.bbc.co.uk/news/business-60623941  0.640  0.360  0.000   \n",
       "3            https://www.bbc.co.uk/news/uk-60579079  0.000  0.796  0.204   \n",
       "4      https://www.bbc.co.uk/news/business-60642786  0.158  0.685  0.158   \n",
       "\n",
       "   compound                                              title  \\\n",
       "0   -0.7717  Ukraine: Angry Zelensky vows to punish Russian...   \n",
       "1   -0.7906  War in Ukraine: Taking cover in a town under a...   \n",
       "2   -0.7964         Ukraine war 'catastrophic for global food'   \n",
       "3    0.3182  Manchester Arena bombing: Saffie Roussos's par...   \n",
       "4    0.0000  Ukraine conflict: Oil price soars to highest l...   \n",
       "\n",
       "              pubDate                                               link  \\\n",
       "0 2022-03-07 08:01:56  https://www.bbc.co.uk/news/world-europe-606380...   \n",
       "1 2022-03-06 22:49:58  https://www.bbc.co.uk/news/world-europe-606418...   \n",
       "2 2022-03-07 00:14:42  https://www.bbc.co.uk/news/business-60623941?a...   \n",
       "3 2022-03-07 00:05:40  https://www.bbc.co.uk/news/uk-60579079?at_medi...   \n",
       "4 2022-03-07 08:15:53  https://www.bbc.co.uk/news/business-60642786?a...   \n",
       "\n",
       "                                         description  \n",
       "0  The Ukrainian president says the country will ...  \n",
       "1  Jeremy Bowen was on the frontline in Irpin, as...  \n",
       "2  One of the world's biggest fertiliser firms sa...  \n",
       "3  The parents of the Manchester Arena bombing's ...  \n",
       "4  Consumers are feeling the impact of higher ene...  "
      ]
     },
     "execution_count": 23,
     "metadata": {},
     "output_type": "execute_result"
    }
   ],
   "source": [
    "vaders.head()"
   ]
  },
  {
   "cell_type": "markdown",
   "id": "29212db4-d013-44c2-98a2-bfa525476fc4",
   "metadata": {},
   "source": [
    "##### Plot Scores:"
   ]
  },
  {
   "cell_type": "code",
   "execution_count": 24,
   "id": "564b1b81-768f-4153-b8dd-b5083906317c",
   "metadata": {},
   "outputs": [
    {
     "data": {
      "text/plain": [
       "(array([0.2287811 , 0.53261557, 0.52175258, 0.50101415, 0.22137452,\n",
       "        2.01327369, 0.34086738, 0.45558711, 0.27552487, 0.08706849]),\n",
       " array([-9.6610e-01, -7.7297e-01, -5.7984e-01, -3.8671e-01, -1.9358e-01,\n",
       "        -4.5000e-04,  1.9268e-01,  3.8581e-01,  5.7894e-01,  7.7207e-01,\n",
       "         9.6520e-01]),\n",
       " <BarContainer object of 10 artists>)"
      ]
     },
     "execution_count": 24,
     "metadata": {},
     "output_type": "execute_result"
    },
    {
     "data": {
      "image/png": "[encoded data removed]",
      "text/plain": [
       "<Figure size 640x480 with 1 Axes>"
      ]
     },
     "metadata": {},
     "output_type": "display_data"
    }
   ],
   "source": [
    "plt.hist(vaders['compound'], density = True, bins = 10)"
   ]
  },
  {
   "cell_type": "markdown",
   "id": "8e5d9615-f3b2-44ac-a2c2-d3c3710b150c",
   "metadata": {},
   "source": [
    "Displaying the average index average per date"
   ]
  },
  {
   "cell_type": "code",
   "execution_count": 25,
   "id": "117cade4-f53b-4347-b674-636d1fc5f71a",
   "metadata": {},
   "outputs": [
    {
     "data": {
      "image/png": "[encoded data removed]",
      "text/plain": [
       "<Figure size 640x480 with 1 Axes>"
      ]
     },
     "metadata": {},
     "output_type": "display_data"
    }
   ],
   "source": [
    "vaders.groupby(vaders['pubDate'].dt.date)['compound'].mean().plot(kind='bar',color = 'r')\n",
    "plt.xticks(rotation=90, ha='right')\n",
    "\n",
    "plt.ylabel('number of publications per year')\n",
    "plt.title('Average Sentiment Analysis per date\\n' , fontsize=15, loc='left')\n",
    "plt.show()"
   ]
  },
  {
   "cell_type": "code",
   "execution_count": 26,
   "id": "7de81b97-d227-4984-b778-a716b16938a4",
   "metadata": {},
   "outputs": [
    {
     "data": {
      "image/png": "[encoded data removed]",
      "text/plain": [
       "<Figure size 640x480 with 1 Axes>"
      ]
     },
     "metadata": {},
     "output_type": "display_data"
    }
   ],
   "source": [
    "vaders.groupby(vaders['pubDate'].dt.date)['compound'].median().plot(kind='bar',color = 'r')\n",
    "plt.xticks(rotation=90, ha='right')\n",
    "\n",
    "plt.ylabel('number of publications per year')\n",
    "plt.title('Median Sentiment Analysis per date\\n' , fontsize=15, loc='left')\n",
    "plt.show()"
   ]
  },
  {
   "cell_type": "code",
   "execution_count": 27,
   "id": "d0e23171-c829-4fdc-9922-739cd9a5b96a",
   "metadata": {},
   "outputs": [
    {
     "data": {
      "image/png": "[encoded data removed]",
      "text/plain": [
       "<Figure size 640x480 with 1 Axes>"
      ]
     },
     "metadata": {},
     "output_type": "display_data"
    }
   ],
   "source": [
    "# Assuming vaders is your DataFrame\n",
    "\n",
    "# Plotting\n",
    "ax = vaders.groupby(vaders['pubDate'].dt.date)['compound'].mean().plot(kind='bar', color='r')\n",
    "plt.xticks(rotation=90, ha='right', fontsize=1)  # Adjust fontsize as needed\n",
    "\n",
    "plt.ylabel('Average Sentiment')\n",
    "plt.title('Average Sentiment Analysis per Date\\n', fontsize=15, loc='left')\n",
    "plt.xlabel('Date')\n",
    "plt.show()"
   ]
  },
  {
   "cell_type": "code",
   "execution_count": 28,
   "id": "7fc054d4-2ab2-484b-b140-5468f86efdc5",
   "metadata": {},
   "outputs": [
    {
     "data": {
      "image/png": "[encoded data removed]",
      "text/plain": [
       "<Figure size 640x480 with 1 Axes>"
      ]
     },
     "metadata": {},
     "output_type": "display_data"
    }
   ],
   "source": [
    "import pandas as pd\n",
    "import matplotlib.pyplot as plt\n",
    "\n",
    "# Assuming vaders is your DataFrame\n",
    "\n",
    "# Plotting\n",
    "ax = vaders.groupby(vaders['pubDate'].dt.date)['compound'].mean().plot(kind='bar', color='r')\n",
    "\n",
    "# Customize which x-axis labels to display\n",
    "# For example, to display every 5th label, you can set the step as 5\n",
    "step = 200\n",
    "plt.xticks(range(0, len(ax.get_xticks()), step), ax.get_xticklabels()[::step], rotation=90, ha='right')\n",
    "\n",
    "plt.ylabel('Average Sentiment')\n",
    "plt.title('Average Sentiment Analysis per Date\\n', fontsize=15, loc='left')\n",
    "plt.xlabel('Date')\n",
    "plt.show()"
   ]
  },
  {
   "cell_type": "markdown",
   "id": "73ae193d-02e1-4381-851f-b398dd57f005",
   "metadata": {},
   "source": [
    "##### Making a Summary of Vader's output to merge to the LSTM Model"
   ]
  },
  {
   "cell_type": "code",
   "execution_count": 29,
   "id": "9b1706ca-ea95-4d84-88a3-d864f91cb04c",
   "metadata": {},
   "outputs": [
    {
     "data": {
      "text/plain": [
       "guid                   object\n",
       "neg                   float64\n",
       "neu                   float64\n",
       "pos                   float64\n",
       "compound              float64\n",
       "title                  object\n",
       "pubDate        datetime64[ns]\n",
       "link                   object\n",
       "description            object\n",
       "dtype: object"
      ]
     },
     "execution_count": 29,
     "metadata": {},
     "output_type": "execute_result"
    }
   ],
   "source": [
    "vaders.dtypes"
   ]
  },
  {
   "cell_type": "code",
   "execution_count": 30,
   "id": "18b1eaaf-59d5-4abe-8c13-943bc8a0a9e1",
   "metadata": {},
   "outputs": [],
   "source": [
    "# creating a copy of Vaders to make the summary"
   ]
  },
  {
   "cell_type": "code",
   "execution_count": 31,
   "id": "e35bb172-cf6a-457e-84bd-9a140cec95ff",
   "metadata": {},
   "outputs": [
    {
     "data": {
      "text/plain": [
       "guid                   object\n",
       "neg                   float64\n",
       "neu                   float64\n",
       "pos                   float64\n",
       "compound              float64\n",
       "title                  object\n",
       "pubDate        datetime64[ns]\n",
       "link                   object\n",
       "description            object\n",
       "dtype: object"
      ]
     },
     "execution_count": 31,
     "metadata": {},
     "output_type": "execute_result"
    }
   ],
   "source": [
    "vaders_summary = vaders\n",
    "\n",
    "vaders_summary.dtypes"
   ]
  },
  {
   "cell_type": "code",
   "execution_count": 32,
   "id": "cedcf4c7-931b-4abd-9af0-0f46fcb103ef",
   "metadata": {},
   "outputs": [
    {
     "name": "stdout",
     "output_type": "stream",
     "text": [
      "                                               guid    neg    neu    pos  \\\n",
      "0  https://www.bbc.co.uk/news/world-europe-60638042  0.528  0.472  0.000   \n",
      "1  https://www.bbc.co.uk/news/world-europe-60641873  0.500  0.500  0.000   \n",
      "2      https://www.bbc.co.uk/news/business-60623941  0.640  0.360  0.000   \n",
      "3            https://www.bbc.co.uk/news/uk-60579079  0.000  0.796  0.204   \n",
      "4      https://www.bbc.co.uk/news/business-60642786  0.158  0.685  0.158   \n",
      "\n",
      "   compound                                              title     pubDate  \\\n",
      "0   -0.7717  Ukraine: Angry Zelensky vows to punish Russian...  03-07-2022   \n",
      "1   -0.7906  War in Ukraine: Taking cover in a town under a...  03-06-2022   \n",
      "2   -0.7964         Ukraine war 'catastrophic for global food'  03-07-2022   \n",
      "3    0.3182  Manchester Arena bombing: Saffie Roussos's par...  03-07-2022   \n",
      "4    0.0000  Ukraine conflict: Oil price soars to highest l...  03-07-2022   \n",
      "\n",
      "                                                link  \\\n",
      "0  https://www.bbc.co.uk/news/world-europe-606380...   \n",
      "1  https://www.bbc.co.uk/news/world-europe-606418...   \n",
      "2  https://www.bbc.co.uk/news/business-60623941?a...   \n",
      "3  https://www.bbc.co.uk/news/uk-60579079?at_medi...   \n",
      "4  https://www.bbc.co.uk/news/business-60642786?a...   \n",
      "\n",
      "                                         description  \n",
      "0  The Ukrainian president says the country will ...  \n",
      "1  Jeremy Bowen was on the frontline in Irpin, as...  \n",
      "2  One of the world's biggest fertiliser firms sa...  \n",
      "3  The parents of the Manchester Arena bombing's ...  \n",
      "4  Consumers are feeling the impact of higher ene...  \n"
     ]
    }
   ],
   "source": [
    "# Convert 'pubDate' column to datetime if it's not already in datetime format\n",
    "vaders_summary['pubDate'] = pd.to_datetime(vaders_summary['pubDate'])\n",
    "\n",
    "# Convert the datetime format to MM-DD-YYYY\n",
    "vaders_summary['pubDate'] = vaders_summary['pubDate'].dt.strftime('%m-%d-%Y')\n",
    "\n",
    "# Display the DataFrame to verify the changes\n",
    "print(vaders_summary.head())"
   ]
  },
  {
   "cell_type": "code",
   "execution_count": 33,
   "id": "fec1453e-7fd0-4caf-90ea-e702d9a6a3fa",
   "metadata": {},
   "outputs": [
    {
     "data": {
      "text/html": [
       "<div>\n",
       "<style scoped>\n",
       "    .dataframe tbody tr th:only-of-type {\n",
       "        vertical-align: middle;\n",
       "    }\n",
       "\n",
       "    .dataframe tbody tr th {\n",
       "        vertical-align: top;\n",
       "    }\n",
       "\n",
       "    .dataframe thead th {\n",
       "        text-align: right;\n",
       "    }\n",
       "</style>\n",
       "<table border=\"1\" class=\"dataframe\">\n",
       "  <thead>\n",
       "    <tr style=\"text-align: right;\">\n",
       "      <th></th>\n",
       "      <th>compound</th>\n",
       "      <th>pubDate</th>\n",
       "    </tr>\n",
       "  </thead>\n",
       "  <tbody>\n",
       "    <tr>\n",
       "      <th>0</th>\n",
       "      <td>-0.7717</td>\n",
       "      <td>03-07-2022</td>\n",
       "    </tr>\n",
       "    <tr>\n",
       "      <th>1</th>\n",
       "      <td>-0.7906</td>\n",
       "      <td>03-06-2022</td>\n",
       "    </tr>\n",
       "    <tr>\n",
       "      <th>2</th>\n",
       "      <td>-0.7964</td>\n",
       "      <td>03-07-2022</td>\n",
       "    </tr>\n",
       "    <tr>\n",
       "      <th>3</th>\n",
       "      <td>0.3182</td>\n",
       "      <td>03-07-2022</td>\n",
       "    </tr>\n",
       "    <tr>\n",
       "      <th>4</th>\n",
       "      <td>0.0000</td>\n",
       "      <td>03-07-2022</td>\n",
       "    </tr>\n",
       "    <tr>\n",
       "      <th>...</th>\n",
       "      <td>...</td>\n",
       "      <td>...</td>\n",
       "    </tr>\n",
       "    <tr>\n",
       "      <th>31454</th>\n",
       "      <td>-0.4767</td>\n",
       "      <td>03-27-2024</td>\n",
       "    </tr>\n",
       "    <tr>\n",
       "      <th>31455</th>\n",
       "      <td>0.0000</td>\n",
       "      <td>04-01-2024</td>\n",
       "    </tr>\n",
       "    <tr>\n",
       "      <th>31456</th>\n",
       "      <td>0.0000</td>\n",
       "      <td>04-01-2024</td>\n",
       "    </tr>\n",
       "    <tr>\n",
       "      <th>31457</th>\n",
       "      <td>-0.6448</td>\n",
       "      <td>04-01-2024</td>\n",
       "    </tr>\n",
       "    <tr>\n",
       "      <th>31458</th>\n",
       "      <td>-0.3182</td>\n",
       "      <td>04-01-2024</td>\n",
       "    </tr>\n",
       "  </tbody>\n",
       "</table>\n",
       "<p>31459 rows × 2 columns</p>\n",
       "</div>"
      ],
      "text/plain": [
       "       compound     pubDate\n",
       "0       -0.7717  03-07-2022\n",
       "1       -0.7906  03-06-2022\n",
       "2       -0.7964  03-07-2022\n",
       "3        0.3182  03-07-2022\n",
       "4        0.0000  03-07-2022\n",
       "...         ...         ...\n",
       "31454   -0.4767  03-27-2024\n",
       "31455    0.0000  04-01-2024\n",
       "31456    0.0000  04-01-2024\n",
       "31457   -0.6448  04-01-2024\n",
       "31458   -0.3182  04-01-2024\n",
       "\n",
       "[31459 rows x 2 columns]"
      ]
     },
     "execution_count": 33,
     "metadata": {},
     "output_type": "execute_result"
    }
   ],
   "source": [
    "# Keeping only the 'compound' and 'pubDate' columns and dropping the rest\n",
    "vaders_summary = vaders_summary[['compound', 'pubDate']]\n",
    "vaders_summary"
   ]
  },
  {
   "cell_type": "code",
   "execution_count": 34,
   "id": "3865b1f5-ec3c-44f5-8b89-ae2ac232cce2",
   "metadata": {},
   "outputs": [
    {
     "name": "stderr",
     "output_type": "stream",
     "text": [
      "C:\\Users\\leona\\AppData\\Local\\Temp\\ipykernel_380\\1391555428.py:2: SettingWithCopyWarning: \n",
      "A value is trying to be set on a copy of a slice from a DataFrame.\n",
      "Try using .loc[row_indexer,col_indexer] = value instead\n",
      "\n",
      "See the caveats in the documentation: https://pandas.pydata.org/pandas-docs/stable/user_guide/indexing.html#returning-a-view-versus-a-copy\n",
      "  vaders_summary['pubDate'] = pd.to_datetime(vaders_summary['pubDate'])\n",
      "C:\\Users\\leona\\AppData\\Local\\Temp\\ipykernel_380\\1391555428.py:5: SettingWithCopyWarning: \n",
      "A value is trying to be set on a copy of a slice from a DataFrame.\n",
      "Try using .loc[row_indexer,col_indexer] = value instead\n",
      "\n",
      "See the caveats in the documentation: https://pandas.pydata.org/pandas-docs/stable/user_guide/indexing.html#returning-a-view-versus-a-copy\n",
      "  vaders_summary['avg_compound'] = vaders_summary.groupby(vaders_summary['pubDate'].dt.date)['compound'].transform('mean')\n"
     ]
    },
    {
     "data": {
      "text/html": [
       "<div>\n",
       "<style scoped>\n",
       "    .dataframe tbody tr th:only-of-type {\n",
       "        vertical-align: middle;\n",
       "    }\n",
       "\n",
       "    .dataframe tbody tr th {\n",
       "        vertical-align: top;\n",
       "    }\n",
       "\n",
       "    .dataframe thead th {\n",
       "        text-align: right;\n",
       "    }\n",
       "</style>\n",
       "<table border=\"1\" class=\"dataframe\">\n",
       "  <thead>\n",
       "    <tr style=\"text-align: right;\">\n",
       "      <th></th>\n",
       "      <th>compound</th>\n",
       "      <th>date</th>\n",
       "      <th>avg_compound</th>\n",
       "    </tr>\n",
       "  </thead>\n",
       "  <tbody>\n",
       "    <tr>\n",
       "      <th>0</th>\n",
       "      <td>-0.7717</td>\n",
       "      <td>2022-03-07</td>\n",
       "      <td>-0.224473</td>\n",
       "    </tr>\n",
       "    <tr>\n",
       "      <th>1</th>\n",
       "      <td>-0.7906</td>\n",
       "      <td>2022-03-06</td>\n",
       "      <td>-0.128635</td>\n",
       "    </tr>\n",
       "    <tr>\n",
       "      <th>2</th>\n",
       "      <td>-0.7964</td>\n",
       "      <td>2022-03-07</td>\n",
       "      <td>-0.224473</td>\n",
       "    </tr>\n",
       "    <tr>\n",
       "      <th>3</th>\n",
       "      <td>0.3182</td>\n",
       "      <td>2022-03-07</td>\n",
       "      <td>-0.224473</td>\n",
       "    </tr>\n",
       "    <tr>\n",
       "      <th>4</th>\n",
       "      <td>0.0000</td>\n",
       "      <td>2022-03-07</td>\n",
       "      <td>-0.224473</td>\n",
       "    </tr>\n",
       "    <tr>\n",
       "      <th>...</th>\n",
       "      <td>...</td>\n",
       "      <td>...</td>\n",
       "      <td>...</td>\n",
       "    </tr>\n",
       "    <tr>\n",
       "      <th>31454</th>\n",
       "      <td>-0.4767</td>\n",
       "      <td>2024-03-27</td>\n",
       "      <td>-0.183528</td>\n",
       "    </tr>\n",
       "    <tr>\n",
       "      <th>31455</th>\n",
       "      <td>0.0000</td>\n",
       "      <td>2024-04-01</td>\n",
       "      <td>-0.150179</td>\n",
       "    </tr>\n",
       "    <tr>\n",
       "      <th>31456</th>\n",
       "      <td>0.0000</td>\n",
       "      <td>2024-04-01</td>\n",
       "      <td>-0.150179</td>\n",
       "    </tr>\n",
       "    <tr>\n",
       "      <th>31457</th>\n",
       "      <td>-0.6448</td>\n",
       "      <td>2024-04-01</td>\n",
       "      <td>-0.150179</td>\n",
       "    </tr>\n",
       "    <tr>\n",
       "      <th>31458</th>\n",
       "      <td>-0.3182</td>\n",
       "      <td>2024-04-01</td>\n",
       "      <td>-0.150179</td>\n",
       "    </tr>\n",
       "  </tbody>\n",
       "</table>\n",
       "<p>31459 rows × 3 columns</p>\n",
       "</div>"
      ],
      "text/plain": [
       "       compound       date  avg_compound\n",
       "0       -0.7717 2022-03-07     -0.224473\n",
       "1       -0.7906 2022-03-06     -0.128635\n",
       "2       -0.7964 2022-03-07     -0.224473\n",
       "3        0.3182 2022-03-07     -0.224473\n",
       "4        0.0000 2022-03-07     -0.224473\n",
       "...         ...        ...           ...\n",
       "31454   -0.4767 2024-03-27     -0.183528\n",
       "31455    0.0000 2024-04-01     -0.150179\n",
       "31456    0.0000 2024-04-01     -0.150179\n",
       "31457   -0.6448 2024-04-01     -0.150179\n",
       "31458   -0.3182 2024-04-01     -0.150179\n",
       "\n",
       "[31459 rows x 3 columns]"
      ]
     },
     "execution_count": 34,
     "metadata": {},
     "output_type": "execute_result"
    }
   ],
   "source": [
    "# Convert 'pubDate' column to datetime if it's not already in datetime format\n",
    "vaders_summary['pubDate'] = pd.to_datetime(vaders_summary['pubDate'])\n",
    "\n",
    "#Calculate the average compound index per day\n",
    "vaders_summary['avg_compound'] = vaders_summary.groupby(vaders_summary['pubDate'].dt.date)['compound'].transform('mean')\n",
    "\n",
    "vaders_summary = vaders_summary.rename(columns={'pubDate': 'date'})\n",
    "\n",
    "vaders_summary"
   ]
  },
  {
   "cell_type": "markdown",
   "id": "07b87ab2-0a73-4df0-af7b-624903bcafb0",
   "metadata": {},
   "source": [
    "##### Saving to a CSV file named 'vader_data.csv':"
   ]
  },
  {
   "cell_type": "code",
   "execution_count": 35,
   "id": "c145171f-2620-4d89-9b38-a881708d834e",
   "metadata": {},
   "outputs": [],
   "source": [
    "# Saving to a CSV file named 'vader_data.csv'\n",
    "#vaders_summary.to_csv('vaders_summary.csv', index=False)\n",
    "\n",
    "vaders_summary = vaders_summary.rename(columns={'date': 'Date'})\n"
   ]
  },
  {
   "cell_type": "code",
   "execution_count": 36,
   "id": "e981de98-b68e-450b-a391-8771017cc3f9",
   "metadata": {},
   "outputs": [
    {
     "data": {
      "text/html": [
       "<div>\n",
       "<style scoped>\n",
       "    .dataframe tbody tr th:only-of-type {\n",
       "        vertical-align: middle;\n",
       "    }\n",
       "\n",
       "    .dataframe tbody tr th {\n",
       "        vertical-align: top;\n",
       "    }\n",
       "\n",
       "    .dataframe thead th {\n",
       "        text-align: right;\n",
       "    }\n",
       "</style>\n",
       "<table border=\"1\" class=\"dataframe\">\n",
       "  <thead>\n",
       "    <tr style=\"text-align: right;\">\n",
       "      <th></th>\n",
       "      <th>Date</th>\n",
       "      <th>Open</th>\n",
       "      <th>High</th>\n",
       "      <th>Low</th>\n",
       "      <th>Close</th>\n",
       "      <th>Adj Close</th>\n",
       "      <th>Volume</th>\n",
       "    </tr>\n",
       "  </thead>\n",
       "  <tbody>\n",
       "    <tr>\n",
       "      <th>0</th>\n",
       "      <td>2022-01-03</td>\n",
       "      <td>26.690001</td>\n",
       "      <td>27.480000</td>\n",
       "      <td>26.650000</td>\n",
       "      <td>27.370001</td>\n",
       "      <td>24.747339</td>\n",
       "      <td>9785600</td>\n",
       "    </tr>\n",
       "    <tr>\n",
       "      <th>1</th>\n",
       "      <td>2022-01-04</td>\n",
       "      <td>28.129999</td>\n",
       "      <td>28.700001</td>\n",
       "      <td>28.110001</td>\n",
       "      <td>28.549999</td>\n",
       "      <td>25.814268</td>\n",
       "      <td>15444300</td>\n",
       "    </tr>\n",
       "    <tr>\n",
       "      <th>2</th>\n",
       "      <td>2022-01-05</td>\n",
       "      <td>28.930000</td>\n",
       "      <td>29.070000</td>\n",
       "      <td>28.360001</td>\n",
       "      <td>28.370001</td>\n",
       "      <td>25.651520</td>\n",
       "      <td>13507900</td>\n",
       "    </tr>\n",
       "    <tr>\n",
       "      <th>3</th>\n",
       "      <td>2022-01-06</td>\n",
       "      <td>29.020000</td>\n",
       "      <td>29.120001</td>\n",
       "      <td>28.590000</td>\n",
       "      <td>28.809999</td>\n",
       "      <td>26.049353</td>\n",
       "      <td>13366900</td>\n",
       "    </tr>\n",
       "    <tr>\n",
       "      <th>4</th>\n",
       "      <td>2022-01-07</td>\n",
       "      <td>29.270000</td>\n",
       "      <td>29.700001</td>\n",
       "      <td>29.080000</td>\n",
       "      <td>29.670000</td>\n",
       "      <td>26.826948</td>\n",
       "      <td>16171800</td>\n",
       "    </tr>\n",
       "    <tr>\n",
       "      <th>...</th>\n",
       "      <td>...</td>\n",
       "      <td>...</td>\n",
       "      <td>...</td>\n",
       "      <td>...</td>\n",
       "      <td>...</td>\n",
       "      <td>...</td>\n",
       "      <td>...</td>\n",
       "    </tr>\n",
       "    <tr>\n",
       "      <th>557</th>\n",
       "      <td>2024-03-22</td>\n",
       "      <td>37.869999</td>\n",
       "      <td>37.869999</td>\n",
       "      <td>37.660000</td>\n",
       "      <td>37.799999</td>\n",
       "      <td>37.799999</td>\n",
       "      <td>3696200</td>\n",
       "    </tr>\n",
       "    <tr>\n",
       "      <th>558</th>\n",
       "      <td>2024-03-25</td>\n",
       "      <td>38.119999</td>\n",
       "      <td>38.480000</td>\n",
       "      <td>38.110001</td>\n",
       "      <td>38.259998</td>\n",
       "      <td>38.259998</td>\n",
       "      <td>8388700</td>\n",
       "    </tr>\n",
       "    <tr>\n",
       "      <th>559</th>\n",
       "      <td>2024-03-26</td>\n",
       "      <td>38.189999</td>\n",
       "      <td>38.220001</td>\n",
       "      <td>37.560001</td>\n",
       "      <td>37.570000</td>\n",
       "      <td>37.570000</td>\n",
       "      <td>7600900</td>\n",
       "    </tr>\n",
       "    <tr>\n",
       "      <th>560</th>\n",
       "      <td>2024-03-27</td>\n",
       "      <td>37.230000</td>\n",
       "      <td>37.490002</td>\n",
       "      <td>37.189999</td>\n",
       "      <td>37.459999</td>\n",
       "      <td>37.459999</td>\n",
       "      <td>5929300</td>\n",
       "    </tr>\n",
       "    <tr>\n",
       "      <th>561</th>\n",
       "      <td>2024-03-28</td>\n",
       "      <td>37.639999</td>\n",
       "      <td>37.810001</td>\n",
       "      <td>37.490002</td>\n",
       "      <td>37.680000</td>\n",
       "      <td>37.680000</td>\n",
       "      <td>4795500</td>\n",
       "    </tr>\n",
       "  </tbody>\n",
       "</table>\n",
       "<p>562 rows × 7 columns</p>\n",
       "</div>"
      ],
      "text/plain": [
       "           Date       Open       High        Low      Close  Adj Close  \\\n",
       "0    2022-01-03  26.690001  27.480000  26.650000  27.370001  24.747339   \n",
       "1    2022-01-04  28.129999  28.700001  28.110001  28.549999  25.814268   \n",
       "2    2022-01-05  28.930000  29.070000  28.360001  28.370001  25.651520   \n",
       "3    2022-01-06  29.020000  29.120001  28.590000  28.809999  26.049353   \n",
       "4    2022-01-07  29.270000  29.700001  29.080000  29.670000  26.826948   \n",
       "..          ...        ...        ...        ...        ...        ...   \n",
       "557  2024-03-22  37.869999  37.869999  37.660000  37.799999  37.799999   \n",
       "558  2024-03-25  38.119999  38.480000  38.110001  38.259998  38.259998   \n",
       "559  2024-03-26  38.189999  38.220001  37.560001  37.570000  37.570000   \n",
       "560  2024-03-27  37.230000  37.490002  37.189999  37.459999  37.459999   \n",
       "561  2024-03-28  37.639999  37.810001  37.490002  37.680000  37.680000   \n",
       "\n",
       "       Volume  \n",
       "0     9785600  \n",
       "1    15444300  \n",
       "2    13507900  \n",
       "3    13366900  \n",
       "4    16171800  \n",
       "..        ...  \n",
       "557   3696200  \n",
       "558   8388700  \n",
       "559   7600900  \n",
       "560   5929300  \n",
       "561   4795500  \n",
       "\n",
       "[562 rows x 7 columns]"
      ]
     },
     "execution_count": 36,
     "metadata": {},
     "output_type": "execute_result"
    }
   ],
   "source": [
    "# Reading the dataset with BP StockPrice\n",
    "BP_stock = pd.read_csv('BP_yahoofinance.csv')\n",
    "BP_stock"
   ]
  },
  {
   "cell_type": "code",
   "execution_count": 37,
   "id": "ac1d51ec-e9a7-412c-b69c-a47939516a81",
   "metadata": {},
   "outputs": [
    {
     "data": {
      "text/html": [
       "<div>\n",
       "<style scoped>\n",
       "    .dataframe tbody tr th:only-of-type {\n",
       "        vertical-align: middle;\n",
       "    }\n",
       "\n",
       "    .dataframe tbody tr th {\n",
       "        vertical-align: top;\n",
       "    }\n",
       "\n",
       "    .dataframe thead th {\n",
       "        text-align: right;\n",
       "    }\n",
       "</style>\n",
       "<table border=\"1\" class=\"dataframe\">\n",
       "  <thead>\n",
       "    <tr style=\"text-align: right;\">\n",
       "      <th></th>\n",
       "      <th>Date</th>\n",
       "      <th>Open</th>\n",
       "      <th>High</th>\n",
       "      <th>Low</th>\n",
       "      <th>Close</th>\n",
       "      <th>Adj Close</th>\n",
       "      <th>Volume</th>\n",
       "    </tr>\n",
       "  </thead>\n",
       "  <tbody>\n",
       "    <tr>\n",
       "      <th>0</th>\n",
       "      <td>2022-01-03</td>\n",
       "      <td>26.690001</td>\n",
       "      <td>27.480000</td>\n",
       "      <td>26.650000</td>\n",
       "      <td>27.370001</td>\n",
       "      <td>24.747339</td>\n",
       "      <td>9785600</td>\n",
       "    </tr>\n",
       "    <tr>\n",
       "      <th>1</th>\n",
       "      <td>2022-01-04</td>\n",
       "      <td>28.129999</td>\n",
       "      <td>28.700001</td>\n",
       "      <td>28.110001</td>\n",
       "      <td>28.549999</td>\n",
       "      <td>25.814268</td>\n",
       "      <td>15444300</td>\n",
       "    </tr>\n",
       "    <tr>\n",
       "      <th>2</th>\n",
       "      <td>2022-01-05</td>\n",
       "      <td>28.930000</td>\n",
       "      <td>29.070000</td>\n",
       "      <td>28.360001</td>\n",
       "      <td>28.370001</td>\n",
       "      <td>25.651520</td>\n",
       "      <td>13507900</td>\n",
       "    </tr>\n",
       "    <tr>\n",
       "      <th>3</th>\n",
       "      <td>2022-01-06</td>\n",
       "      <td>29.020000</td>\n",
       "      <td>29.120001</td>\n",
       "      <td>28.590000</td>\n",
       "      <td>28.809999</td>\n",
       "      <td>26.049353</td>\n",
       "      <td>13366900</td>\n",
       "    </tr>\n",
       "    <tr>\n",
       "      <th>4</th>\n",
       "      <td>2022-01-07</td>\n",
       "      <td>29.270000</td>\n",
       "      <td>29.700001</td>\n",
       "      <td>29.080000</td>\n",
       "      <td>29.670000</td>\n",
       "      <td>26.826948</td>\n",
       "      <td>16171800</td>\n",
       "    </tr>\n",
       "    <tr>\n",
       "      <th>...</th>\n",
       "      <td>...</td>\n",
       "      <td>...</td>\n",
       "      <td>...</td>\n",
       "      <td>...</td>\n",
       "      <td>...</td>\n",
       "      <td>...</td>\n",
       "      <td>...</td>\n",
       "    </tr>\n",
       "    <tr>\n",
       "      <th>557</th>\n",
       "      <td>2024-03-22</td>\n",
       "      <td>37.869999</td>\n",
       "      <td>37.869999</td>\n",
       "      <td>37.660000</td>\n",
       "      <td>37.799999</td>\n",
       "      <td>37.799999</td>\n",
       "      <td>3696200</td>\n",
       "    </tr>\n",
       "    <tr>\n",
       "      <th>558</th>\n",
       "      <td>2024-03-25</td>\n",
       "      <td>38.119999</td>\n",
       "      <td>38.480000</td>\n",
       "      <td>38.110001</td>\n",
       "      <td>38.259998</td>\n",
       "      <td>38.259998</td>\n",
       "      <td>8388700</td>\n",
       "    </tr>\n",
       "    <tr>\n",
       "      <th>559</th>\n",
       "      <td>2024-03-26</td>\n",
       "      <td>38.189999</td>\n",
       "      <td>38.220001</td>\n",
       "      <td>37.560001</td>\n",
       "      <td>37.570000</td>\n",
       "      <td>37.570000</td>\n",
       "      <td>7600900</td>\n",
       "    </tr>\n",
       "    <tr>\n",
       "      <th>560</th>\n",
       "      <td>2024-03-27</td>\n",
       "      <td>37.230000</td>\n",
       "      <td>37.490002</td>\n",
       "      <td>37.189999</td>\n",
       "      <td>37.459999</td>\n",
       "      <td>37.459999</td>\n",
       "      <td>5929300</td>\n",
       "    </tr>\n",
       "    <tr>\n",
       "      <th>561</th>\n",
       "      <td>2024-03-28</td>\n",
       "      <td>37.639999</td>\n",
       "      <td>37.810001</td>\n",
       "      <td>37.490002</td>\n",
       "      <td>37.680000</td>\n",
       "      <td>37.680000</td>\n",
       "      <td>4795500</td>\n",
       "    </tr>\n",
       "  </tbody>\n",
       "</table>\n",
       "<p>562 rows × 7 columns</p>\n",
       "</div>"
      ],
      "text/plain": [
       "           Date       Open       High        Low      Close  Adj Close  \\\n",
       "0    2022-01-03  26.690001  27.480000  26.650000  27.370001  24.747339   \n",
       "1    2022-01-04  28.129999  28.700001  28.110001  28.549999  25.814268   \n",
       "2    2022-01-05  28.930000  29.070000  28.360001  28.370001  25.651520   \n",
       "3    2022-01-06  29.020000  29.120001  28.590000  28.809999  26.049353   \n",
       "4    2022-01-07  29.270000  29.700001  29.080000  29.670000  26.826948   \n",
       "..          ...        ...        ...        ...        ...        ...   \n",
       "557  2024-03-22  37.869999  37.869999  37.660000  37.799999  37.799999   \n",
       "558  2024-03-25  38.119999  38.480000  38.110001  38.259998  38.259998   \n",
       "559  2024-03-26  38.189999  38.220001  37.560001  37.570000  37.570000   \n",
       "560  2024-03-27  37.230000  37.490002  37.189999  37.459999  37.459999   \n",
       "561  2024-03-28  37.639999  37.810001  37.490002  37.680000  37.680000   \n",
       "\n",
       "       Volume  \n",
       "0     9785600  \n",
       "1    15444300  \n",
       "2    13507900  \n",
       "3    13366900  \n",
       "4    16171800  \n",
       "..        ...  \n",
       "557   3696200  \n",
       "558   8388700  \n",
       "559   7600900  \n",
       "560   5929300  \n",
       "561   4795500  \n",
       "\n",
       "[562 rows x 7 columns]"
      ]
     },
     "execution_count": 37,
     "metadata": {},
     "output_type": "execute_result"
    }
   ],
   "source": [
    "# Keeping only the 'Date' and 'Close' columns and dropping the rest\n",
    "#BP_stock = BP_stock[['Date', 'Close']]\n",
    "\n",
    "#BP_stock = BP_stock.rename(columns={'Date': 'date','Close': 'close'})\n",
    "\n",
    "BP_stock"
   ]
  },
  {
   "cell_type": "code",
   "execution_count": 38,
   "id": "5a35f745-d000-4f20-9de4-e17bb994765f",
   "metadata": {},
   "outputs": [
    {
     "data": {
      "text/html": [
       "<div>\n",
       "<style scoped>\n",
       "    .dataframe tbody tr th:only-of-type {\n",
       "        vertical-align: middle;\n",
       "    }\n",
       "\n",
       "    .dataframe tbody tr th {\n",
       "        vertical-align: top;\n",
       "    }\n",
       "\n",
       "    .dataframe thead th {\n",
       "        text-align: right;\n",
       "    }\n",
       "</style>\n",
       "<table border=\"1\" class=\"dataframe\">\n",
       "  <thead>\n",
       "    <tr style=\"text-align: right;\">\n",
       "      <th></th>\n",
       "      <th>compound</th>\n",
       "      <th>Date</th>\n",
       "      <th>avg_compound</th>\n",
       "      <th>Open</th>\n",
       "      <th>High</th>\n",
       "      <th>Low</th>\n",
       "      <th>Close</th>\n",
       "      <th>Adj Close</th>\n",
       "      <th>Volume</th>\n",
       "    </tr>\n",
       "  </thead>\n",
       "  <tbody>\n",
       "    <tr>\n",
       "      <th>0</th>\n",
       "      <td>-0.7717</td>\n",
       "      <td>2022-03-07</td>\n",
       "      <td>-0.224473</td>\n",
       "      <td>28.370001</td>\n",
       "      <td>28.730000</td>\n",
       "      <td>27.969999</td>\n",
       "      <td>28.500000</td>\n",
       "      <td>26.031946</td>\n",
       "      <td>26330200.0</td>\n",
       "    </tr>\n",
       "    <tr>\n",
       "      <th>1</th>\n",
       "      <td>-0.7906</td>\n",
       "      <td>2022-03-06</td>\n",
       "      <td>-0.128635</td>\n",
       "      <td>NaN</td>\n",
       "      <td>NaN</td>\n",
       "      <td>NaN</td>\n",
       "      <td>NaN</td>\n",
       "      <td>NaN</td>\n",
       "      <td>NaN</td>\n",
       "    </tr>\n",
       "    <tr>\n",
       "      <th>2</th>\n",
       "      <td>-0.7964</td>\n",
       "      <td>2022-03-07</td>\n",
       "      <td>-0.224473</td>\n",
       "      <td>28.370001</td>\n",
       "      <td>28.730000</td>\n",
       "      <td>27.969999</td>\n",
       "      <td>28.500000</td>\n",
       "      <td>26.031946</td>\n",
       "      <td>26330200.0</td>\n",
       "    </tr>\n",
       "    <tr>\n",
       "      <th>3</th>\n",
       "      <td>0.3182</td>\n",
       "      <td>2022-03-07</td>\n",
       "      <td>-0.224473</td>\n",
       "      <td>28.370001</td>\n",
       "      <td>28.730000</td>\n",
       "      <td>27.969999</td>\n",
       "      <td>28.500000</td>\n",
       "      <td>26.031946</td>\n",
       "      <td>26330200.0</td>\n",
       "    </tr>\n",
       "    <tr>\n",
       "      <th>4</th>\n",
       "      <td>0.0000</td>\n",
       "      <td>2022-03-07</td>\n",
       "      <td>-0.224473</td>\n",
       "      <td>28.370001</td>\n",
       "      <td>28.730000</td>\n",
       "      <td>27.969999</td>\n",
       "      <td>28.500000</td>\n",
       "      <td>26.031946</td>\n",
       "      <td>26330200.0</td>\n",
       "    </tr>\n",
       "    <tr>\n",
       "      <th>...</th>\n",
       "      <td>...</td>\n",
       "      <td>...</td>\n",
       "      <td>...</td>\n",
       "      <td>...</td>\n",
       "      <td>...</td>\n",
       "      <td>...</td>\n",
       "      <td>...</td>\n",
       "      <td>...</td>\n",
       "      <td>...</td>\n",
       "    </tr>\n",
       "    <tr>\n",
       "      <th>31454</th>\n",
       "      <td>-0.4767</td>\n",
       "      <td>2024-03-27</td>\n",
       "      <td>-0.183528</td>\n",
       "      <td>37.230000</td>\n",
       "      <td>37.490002</td>\n",
       "      <td>37.189999</td>\n",
       "      <td>37.459999</td>\n",
       "      <td>37.459999</td>\n",
       "      <td>5929300.0</td>\n",
       "    </tr>\n",
       "    <tr>\n",
       "      <th>31455</th>\n",
       "      <td>0.0000</td>\n",
       "      <td>2024-04-01</td>\n",
       "      <td>-0.150179</td>\n",
       "      <td>NaN</td>\n",
       "      <td>NaN</td>\n",
       "      <td>NaN</td>\n",
       "      <td>NaN</td>\n",
       "      <td>NaN</td>\n",
       "      <td>NaN</td>\n",
       "    </tr>\n",
       "    <tr>\n",
       "      <th>31456</th>\n",
       "      <td>0.0000</td>\n",
       "      <td>2024-04-01</td>\n",
       "      <td>-0.150179</td>\n",
       "      <td>NaN</td>\n",
       "      <td>NaN</td>\n",
       "      <td>NaN</td>\n",
       "      <td>NaN</td>\n",
       "      <td>NaN</td>\n",
       "      <td>NaN</td>\n",
       "    </tr>\n",
       "    <tr>\n",
       "      <th>31457</th>\n",
       "      <td>-0.6448</td>\n",
       "      <td>2024-04-01</td>\n",
       "      <td>-0.150179</td>\n",
       "      <td>NaN</td>\n",
       "      <td>NaN</td>\n",
       "      <td>NaN</td>\n",
       "      <td>NaN</td>\n",
       "      <td>NaN</td>\n",
       "      <td>NaN</td>\n",
       "    </tr>\n",
       "    <tr>\n",
       "      <th>31458</th>\n",
       "      <td>-0.3182</td>\n",
       "      <td>2024-04-01</td>\n",
       "      <td>-0.150179</td>\n",
       "      <td>NaN</td>\n",
       "      <td>NaN</td>\n",
       "      <td>NaN</td>\n",
       "      <td>NaN</td>\n",
       "      <td>NaN</td>\n",
       "      <td>NaN</td>\n",
       "    </tr>\n",
       "  </tbody>\n",
       "</table>\n",
       "<p>31459 rows × 9 columns</p>\n",
       "</div>"
      ],
      "text/plain": [
       "       compound       Date  avg_compound       Open       High        Low  \\\n",
       "0       -0.7717 2022-03-07     -0.224473  28.370001  28.730000  27.969999   \n",
       "1       -0.7906 2022-03-06     -0.128635        NaN        NaN        NaN   \n",
       "2       -0.7964 2022-03-07     -0.224473  28.370001  28.730000  27.969999   \n",
       "3        0.3182 2022-03-07     -0.224473  28.370001  28.730000  27.969999   \n",
       "4        0.0000 2022-03-07     -0.224473  28.370001  28.730000  27.969999   \n",
       "...         ...        ...           ...        ...        ...        ...   \n",
       "31454   -0.4767 2024-03-27     -0.183528  37.230000  37.490002  37.189999   \n",
       "31455    0.0000 2024-04-01     -0.150179        NaN        NaN        NaN   \n",
       "31456    0.0000 2024-04-01     -0.150179        NaN        NaN        NaN   \n",
       "31457   -0.6448 2024-04-01     -0.150179        NaN        NaN        NaN   \n",
       "31458   -0.3182 2024-04-01     -0.150179        NaN        NaN        NaN   \n",
       "\n",
       "           Close  Adj Close      Volume  \n",
       "0      28.500000  26.031946  26330200.0  \n",
       "1            NaN        NaN         NaN  \n",
       "2      28.500000  26.031946  26330200.0  \n",
       "3      28.500000  26.031946  26330200.0  \n",
       "4      28.500000  26.031946  26330200.0  \n",
       "...          ...        ...         ...  \n",
       "31454  37.459999  37.459999   5929300.0  \n",
       "31455        NaN        NaN         NaN  \n",
       "31456        NaN        NaN         NaN  \n",
       "31457        NaN        NaN         NaN  \n",
       "31458        NaN        NaN         NaN  \n",
       "\n",
       "[31459 rows x 9 columns]"
      ]
     },
     "execution_count": 38,
     "metadata": {},
     "output_type": "execute_result"
    }
   ],
   "source": [
    "# Merge the two DataFrames based on the 'date' column\n",
    "\n",
    "# Convert the 'date' column in 'vaders_summary' to datetime if it's not already in datetime format\n",
    "vaders_summary['Date'] = pd.to_datetime(vaders_summary['Date'])\n",
    "\n",
    "# Convert the 'date' column in 'BP_stock' to datetime if it's not already in datetime format\n",
    "BP_stock['Date'] = pd.to_datetime(BP_stock['Date'])\n",
    "\n",
    "# Merge the two DataFrames based on the 'date' column\n",
    "merged_df2 = vaders_summary.merge(BP_stock[['Date', 'Open', 'High', 'Low', 'Close', 'Adj Close', 'Volume']], on='Date', how='left')\n",
    "\n",
    "merged_df2"
   ]
  },
  {
   "cell_type": "code",
   "execution_count": 39,
   "id": "f24cae2d-9de1-4d5d-b4b0-3ecab18d182b",
   "metadata": {},
   "outputs": [
    {
     "data": {
      "text/html": [
       "<div>\n",
       "<style scoped>\n",
       "    .dataframe tbody tr th:only-of-type {\n",
       "        vertical-align: middle;\n",
       "    }\n",
       "\n",
       "    .dataframe tbody tr th {\n",
       "        vertical-align: top;\n",
       "    }\n",
       "\n",
       "    .dataframe thead th {\n",
       "        text-align: right;\n",
       "    }\n",
       "</style>\n",
       "<table border=\"1\" class=\"dataframe\">\n",
       "  <thead>\n",
       "    <tr style=\"text-align: right;\">\n",
       "      <th></th>\n",
       "      <th>Date</th>\n",
       "      <th>avg_compound</th>\n",
       "      <th>Open</th>\n",
       "      <th>High</th>\n",
       "      <th>Low</th>\n",
       "      <th>Close</th>\n",
       "      <th>Adj Close</th>\n",
       "      <th>Volume</th>\n",
       "    </tr>\n",
       "  </thead>\n",
       "  <tbody>\n",
       "    <tr>\n",
       "      <th>0</th>\n",
       "      <td>2022-03-07</td>\n",
       "      <td>-0.224473</td>\n",
       "      <td>28.370001</td>\n",
       "      <td>28.730000</td>\n",
       "      <td>27.969999</td>\n",
       "      <td>28.500000</td>\n",
       "      <td>26.031946</td>\n",
       "      <td>26330200.0</td>\n",
       "    </tr>\n",
       "    <tr>\n",
       "      <th>32</th>\n",
       "      <td>2022-03-16</td>\n",
       "      <td>-0.187827</td>\n",
       "      <td>28.389999</td>\n",
       "      <td>28.620001</td>\n",
       "      <td>28.139999</td>\n",
       "      <td>28.610001</td>\n",
       "      <td>26.132420</td>\n",
       "      <td>17662100.0</td>\n",
       "    </tr>\n",
       "    <tr>\n",
       "      <th>33</th>\n",
       "      <td>2022-03-17</td>\n",
       "      <td>0.041381</td>\n",
       "      <td>28.969999</td>\n",
       "      <td>29.230000</td>\n",
       "      <td>28.809999</td>\n",
       "      <td>29.040001</td>\n",
       "      <td>26.525185</td>\n",
       "      <td>18703900.0</td>\n",
       "    </tr>\n",
       "    <tr>\n",
       "      <th>34</th>\n",
       "      <td>2022-03-18</td>\n",
       "      <td>-0.055770</td>\n",
       "      <td>28.660000</td>\n",
       "      <td>28.850000</td>\n",
       "      <td>28.370001</td>\n",
       "      <td>28.740000</td>\n",
       "      <td>26.251162</td>\n",
       "      <td>16269400.0</td>\n",
       "    </tr>\n",
       "    <tr>\n",
       "      <th>39</th>\n",
       "      <td>2022-04-04</td>\n",
       "      <td>-0.043263</td>\n",
       "      <td>30.000000</td>\n",
       "      <td>30.040001</td>\n",
       "      <td>29.620001</td>\n",
       "      <td>29.790001</td>\n",
       "      <td>27.210234</td>\n",
       "      <td>13298000.0</td>\n",
       "    </tr>\n",
       "    <tr>\n",
       "      <th>...</th>\n",
       "      <td>...</td>\n",
       "      <td>...</td>\n",
       "      <td>...</td>\n",
       "      <td>...</td>\n",
       "      <td>...</td>\n",
       "      <td>...</td>\n",
       "      <td>...</td>\n",
       "      <td>...</td>\n",
       "    </tr>\n",
       "    <tr>\n",
       "      <th>30957</th>\n",
       "      <td>2024-03-22</td>\n",
       "      <td>-0.185884</td>\n",
       "      <td>37.869999</td>\n",
       "      <td>37.869999</td>\n",
       "      <td>37.660000</td>\n",
       "      <td>37.799999</td>\n",
       "      <td>37.799999</td>\n",
       "      <td>3696200.0</td>\n",
       "    </tr>\n",
       "    <tr>\n",
       "      <th>31088</th>\n",
       "      <td>2024-03-25</td>\n",
       "      <td>-0.112509</td>\n",
       "      <td>38.119999</td>\n",
       "      <td>38.480000</td>\n",
       "      <td>38.110001</td>\n",
       "      <td>38.259998</td>\n",
       "      <td>38.259998</td>\n",
       "      <td>8388700.0</td>\n",
       "    </tr>\n",
       "    <tr>\n",
       "      <th>31128</th>\n",
       "      <td>2024-03-26</td>\n",
       "      <td>-0.155105</td>\n",
       "      <td>38.189999</td>\n",
       "      <td>38.220001</td>\n",
       "      <td>37.560001</td>\n",
       "      <td>37.570000</td>\n",
       "      <td>37.570000</td>\n",
       "      <td>7600900.0</td>\n",
       "    </tr>\n",
       "    <tr>\n",
       "      <th>31164</th>\n",
       "      <td>2024-03-27</td>\n",
       "      <td>-0.183528</td>\n",
       "      <td>37.230000</td>\n",
       "      <td>37.490002</td>\n",
       "      <td>37.189999</td>\n",
       "      <td>37.459999</td>\n",
       "      <td>37.459999</td>\n",
       "      <td>5929300.0</td>\n",
       "    </tr>\n",
       "    <tr>\n",
       "      <th>31225</th>\n",
       "      <td>2024-03-28</td>\n",
       "      <td>-0.075239</td>\n",
       "      <td>37.639999</td>\n",
       "      <td>37.810001</td>\n",
       "      <td>37.490002</td>\n",
       "      <td>37.680000</td>\n",
       "      <td>37.680000</td>\n",
       "      <td>4795500.0</td>\n",
       "    </tr>\n",
       "  </tbody>\n",
       "</table>\n",
       "<p>526 rows × 8 columns</p>\n",
       "</div>"
      ],
      "text/plain": [
       "            Date  avg_compound       Open       High        Low      Close  \\\n",
       "0     2022-03-07     -0.224473  28.370001  28.730000  27.969999  28.500000   \n",
       "32    2022-03-16     -0.187827  28.389999  28.620001  28.139999  28.610001   \n",
       "33    2022-03-17      0.041381  28.969999  29.230000  28.809999  29.040001   \n",
       "34    2022-03-18     -0.055770  28.660000  28.850000  28.370001  28.740000   \n",
       "39    2022-04-04     -0.043263  30.000000  30.040001  29.620001  29.790001   \n",
       "...          ...           ...        ...        ...        ...        ...   \n",
       "30957 2024-03-22     -0.185884  37.869999  37.869999  37.660000  37.799999   \n",
       "31088 2024-03-25     -0.112509  38.119999  38.480000  38.110001  38.259998   \n",
       "31128 2024-03-26     -0.155105  38.189999  38.220001  37.560001  37.570000   \n",
       "31164 2024-03-27     -0.183528  37.230000  37.490002  37.189999  37.459999   \n",
       "31225 2024-03-28     -0.075239  37.639999  37.810001  37.490002  37.680000   \n",
       "\n",
       "       Adj Close      Volume  \n",
       "0      26.031946  26330200.0  \n",
       "32     26.132420  17662100.0  \n",
       "33     26.525185  18703900.0  \n",
       "34     26.251162  16269400.0  \n",
       "39     27.210234  13298000.0  \n",
       "...          ...         ...  \n",
       "30957  37.799999   3696200.0  \n",
       "31088  38.259998   8388700.0  \n",
       "31128  37.570000   7600900.0  \n",
       "31164  37.459999   5929300.0  \n",
       "31225  37.680000   4795500.0  \n",
       "\n",
       "[526 rows x 8 columns]"
      ]
     },
     "execution_count": 39,
     "metadata": {},
     "output_type": "execute_result"
    }
   ],
   "source": [
    "# Drop rows with null values\n",
    "merged_df2 = merged_df2.dropna()\n",
    "\n",
    "# Drop column 'compound'\n",
    "merged_df2 = merged_df2.drop(columns='compound')\n",
    "\n",
    "# Drop duplicate rows\n",
    "merged_df2 = merged_df2.drop_duplicates()\n",
    "\n",
    "merged_df2"
   ]
  },
  {
   "cell_type": "code",
   "execution_count": 40,
   "id": "2e031192-fa86-4477-a9db-2c54d6706da1",
   "metadata": {},
   "outputs": [],
   "source": [
    "# Saving to a CSV file named 'merged_df.csv'\n",
    "merged_df2.to_csv('merged_df2.csv', index=False)"
   ]
  },
  {
   "cell_type": "code",
   "execution_count": null,
   "id": "67da591e-82f4-440e-b895-b16e360a7c44",
   "metadata": {},
   "outputs": [],
   "source": []
  }
 ],
 "metadata": {
  "kernelspec": {
   "display_name": "Python 3 (ipykernel)",
   "language": "python",
   "name": "python3"
  },
  "language_info": {
   "codemirror_mode": {
    "name": "ipython",
    "version": 3
   },
   "file_extension": ".py",
   "mimetype": "text/x-python",
   "name": "python",
   "nbconvert_exporter": "python",
   "pygments_lexer": "ipython3",
   "version": "3.11.6"
  }
 },
 "nbformat": 4,
 "nbformat_minor": 5
}
